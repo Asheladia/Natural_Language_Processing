{
 "cells": [
  {
   "cell_type": "markdown",
   "metadata": {},
   "source": [
    "# The Feelings of the Crisis\n",
    "\n",
    "When you read a news article, normally the headline is the hook to continue reading. However, a negative title could lead you to skip reading an article if you don't want to be in a bad mood. But is this accurate?\n",
    "\n",
    "On this activity you are tasked to corroborate if a news title with a negative sentiment leads or not to a negative content. You will use VADER sentiment to accomplish this work using the news articles that you previously download on _The Voice of the Crisis_ activity."
   ]
  },
  {
   "cell_type": "code",
   "execution_count": 2,
   "metadata": {},
   "outputs": [],
   "source": [
    "# Initial imports\n",
    "import os\n",
    "from pathlib import Path\n",
    "import pandas as pd\n",
    "from newsapi import NewsApiClient\n",
    "import nltk\n",
    "from nltk.sentiment.vader import SentimentIntensityAnalyzer\n",
    "\n",
    "get_ipython().run_line_magic(\"matplotlib\", \"inline\")\n"
   ]
  },
  {
   "cell_type": "markdown",
   "metadata": {},
   "source": [
    "## Instructions\n",
    "\n",
    "Just for convenience download the `vader_lexicon` in order to initialize the VADER sentiment analyzer"
   ]
  },
  {
   "cell_type": "code",
   "execution_count": 3,
   "metadata": {},
   "outputs": [
    {
     "name": "stderr",
     "output_type": "stream",
     "text": [
      "[nltk_data] Downloading package vader_lexicon to\n",
      "[nltk_data]     C:\\Users\\mshel\\AppData\\Roaming\\nltk_data...\n",
      "[nltk_data]   Package vader_lexicon is already up-to-date!\n"
     ]
    }
   ],
   "source": [
    "# Download/Update the VADER Lexicon\n",
    "nltk.download(\"vader_lexicon\")\n",
    "\n",
    "# Initialize the VADER sentiment analyzer\n",
    "analyzer = SentimentIntensityAnalyzer()\n"
   ]
  },
  {
   "cell_type": "markdown",
   "metadata": {},
   "source": [
    "### Load the News Articles from the CSV File as a DataFrame\n",
    "\n",
    "Pick the CSV file you created on _The Voice of the Crisis_ activity and load it as a DataFrame, remember to specify the `encoding='utf-8-sig'` parameter."
   ]
  },
  {
   "cell_type": "code",
   "execution_count": 8,
   "metadata": {},
   "outputs": [
    {
     "data": {
      "text/html": [
       "<div>\n",
       "<style scoped>\n",
       "    .dataframe tbody tr th:only-of-type {\n",
       "        vertical-align: middle;\n",
       "    }\n",
       "\n",
       "    .dataframe tbody tr th {\n",
       "        vertical-align: top;\n",
       "    }\n",
       "\n",
       "    .dataframe thead th {\n",
       "        text-align: right;\n",
       "    }\n",
       "</style>\n",
       "<table border=\"1\" class=\"dataframe\">\n",
       "  <thead>\n",
       "    <tr style=\"text-align: right;\">\n",
       "      <th></th>\n",
       "      <th>Unnamed: 0</th>\n",
       "      <th>date</th>\n",
       "      <th>description</th>\n",
       "      <th>language</th>\n",
       "      <th>text</th>\n",
       "      <th>title</th>\n",
       "    </tr>\n",
       "  </thead>\n",
       "  <tbody>\n",
       "    <tr>\n",
       "      <th>0</th>\n",
       "      <td>0</td>\n",
       "      <td>2020-11-10</td>\n",
       "      <td>European bank stocks had their strongest two d...</td>\n",
       "      <td>en</td>\n",
       "      <td>LONDON/MILAN (Reuters) - European bank stocks ...</td>\n",
       "      <td>Strongest rally since 2008 fuels hopes of Euro...</td>\n",
       "    </tr>\n",
       "    <tr>\n",
       "      <th>1</th>\n",
       "      <td>1</td>\n",
       "      <td>2020-11-03</td>\n",
       "      <td>Central bank interest rate cuts across emergin...</td>\n",
       "      <td>en</td>\n",
       "      <td>LONDON (Reuters) - Central bank interest rate ...</td>\n",
       "      <td>Over and out: EM central bank 20-month easing ...</td>\n",
       "    </tr>\n",
       "    <tr>\n",
       "      <th>2</th>\n",
       "      <td>2</td>\n",
       "      <td>2020-11-03</td>\n",
       "      <td>Central bank interest rate cuts across emergin...</td>\n",
       "      <td>en</td>\n",
       "      <td>LONDON (Reuters) - Central bank interest rate ...</td>\n",
       "      <td>Over and out: EM central bank 20-month easing ...</td>\n",
       "    </tr>\n",
       "    <tr>\n",
       "      <th>3</th>\n",
       "      <td>3</td>\n",
       "      <td>2020-11-03</td>\n",
       "      <td>Central bank interest rate cuts across emergin...</td>\n",
       "      <td>en</td>\n",
       "      <td>A security guard's reflection is seen next to ...</td>\n",
       "      <td>GRAPHIC-Over and out: EM central bank 20-month...</td>\n",
       "    </tr>\n",
       "    <tr>\n",
       "      <th>4</th>\n",
       "      <td>4</td>\n",
       "      <td>2020-11-23</td>\n",
       "      <td>After the panic comes the bailout. And after t...</td>\n",
       "      <td>en</td>\n",
       "      <td>LONDON (Reuters Breakingviews) - After the pan...</td>\n",
       "      <td>Breakingviews - March’s market bailout demands...</td>\n",
       "    </tr>\n",
       "  </tbody>\n",
       "</table>\n",
       "</div>"
      ],
      "text/plain": [
       "   Unnamed: 0        date                                        description  \\\n",
       "0           0  2020-11-10  European bank stocks had their strongest two d...   \n",
       "1           1  2020-11-03  Central bank interest rate cuts across emergin...   \n",
       "2           2  2020-11-03  Central bank interest rate cuts across emergin...   \n",
       "3           3  2020-11-03  Central bank interest rate cuts across emergin...   \n",
       "4           4  2020-11-23  After the panic comes the bailout. And after t...   \n",
       "\n",
       "  language                                               text  \\\n",
       "0       en  LONDON/MILAN (Reuters) - European bank stocks ...   \n",
       "1       en  LONDON (Reuters) - Central bank interest rate ...   \n",
       "2       en  LONDON (Reuters) - Central bank interest rate ...   \n",
       "3       en  A security guard's reflection is seen next to ...   \n",
       "4       en  LONDON (Reuters Breakingviews) - After the pan...   \n",
       "\n",
       "                                               title  \n",
       "0  Strongest rally since 2008 fuels hopes of Euro...  \n",
       "1  Over and out: EM central bank 20-month easing ...  \n",
       "2  Over and out: EM central bank 20-month easing ...  \n",
       "3  GRAPHIC-Over and out: EM central bank 20-month...  \n",
       "4  Breakingviews - March’s market bailout demands...  "
      ]
     },
     "execution_count": 8,
     "metadata": {},
     "output_type": "execute_result"
    }
   ],
   "source": [
    "# Load news from CSV file\n",
    "\n",
    "df = pd.read_csv(Path('crisis_2008.csv'))\n",
    "df.head()"
   ]
  },
  {
   "cell_type": "markdown",
   "metadata": {},
   "source": [
    "The VADER sentiment module is only trained to score sentiment on English language, so create a new DataFrame only with news in English. You will learn how to score sentiment in multiple languages later."
   ]
  },
  {
   "cell_type": "code",
   "execution_count": 25,
   "metadata": {},
   "outputs": [
    {
     "data": {
      "text/html": [
       "<div>\n",
       "<style scoped>\n",
       "    .dataframe tbody tr th:only-of-type {\n",
       "        vertical-align: middle;\n",
       "    }\n",
       "\n",
       "    .dataframe tbody tr th {\n",
       "        vertical-align: top;\n",
       "    }\n",
       "\n",
       "    .dataframe thead th {\n",
       "        text-align: right;\n",
       "    }\n",
       "</style>\n",
       "<table border=\"1\" class=\"dataframe\">\n",
       "  <thead>\n",
       "    <tr style=\"text-align: right;\">\n",
       "      <th></th>\n",
       "      <th>Unnamed: 0</th>\n",
       "      <th>date</th>\n",
       "      <th>description</th>\n",
       "      <th>language</th>\n",
       "      <th>text</th>\n",
       "      <th>title</th>\n",
       "    </tr>\n",
       "  </thead>\n",
       "  <tbody>\n",
       "    <tr>\n",
       "      <th>0</th>\n",
       "      <td>0</td>\n",
       "      <td>2020-11-10</td>\n",
       "      <td>European bank stocks had their strongest two d...</td>\n",
       "      <td>en</td>\n",
       "      <td>LONDON/MILAN (Reuters) - European bank stocks ...</td>\n",
       "      <td>Strongest rally since 2008 fuels hopes of Euro...</td>\n",
       "    </tr>\n",
       "    <tr>\n",
       "      <th>1</th>\n",
       "      <td>1</td>\n",
       "      <td>2020-11-03</td>\n",
       "      <td>Central bank interest rate cuts across emergin...</td>\n",
       "      <td>en</td>\n",
       "      <td>LONDON (Reuters) - Central bank interest rate ...</td>\n",
       "      <td>Over and out: EM central bank 20-month easing ...</td>\n",
       "    </tr>\n",
       "    <tr>\n",
       "      <th>2</th>\n",
       "      <td>2</td>\n",
       "      <td>2020-11-03</td>\n",
       "      <td>Central bank interest rate cuts across emergin...</td>\n",
       "      <td>en</td>\n",
       "      <td>LONDON (Reuters) - Central bank interest rate ...</td>\n",
       "      <td>Over and out: EM central bank 20-month easing ...</td>\n",
       "    </tr>\n",
       "    <tr>\n",
       "      <th>3</th>\n",
       "      <td>3</td>\n",
       "      <td>2020-11-03</td>\n",
       "      <td>Central bank interest rate cuts across emergin...</td>\n",
       "      <td>en</td>\n",
       "      <td>A security guard's reflection is seen next to ...</td>\n",
       "      <td>GRAPHIC-Over and out: EM central bank 20-month...</td>\n",
       "    </tr>\n",
       "    <tr>\n",
       "      <th>4</th>\n",
       "      <td>4</td>\n",
       "      <td>2020-11-23</td>\n",
       "      <td>After the panic comes the bailout. And after t...</td>\n",
       "      <td>en</td>\n",
       "      <td>LONDON (Reuters Breakingviews) - After the pan...</td>\n",
       "      <td>Breakingviews - March’s market bailout demands...</td>\n",
       "    </tr>\n",
       "  </tbody>\n",
       "</table>\n",
       "</div>"
      ],
      "text/plain": [
       "   Unnamed: 0        date                                        description  \\\n",
       "0           0  2020-11-10  European bank stocks had their strongest two d...   \n",
       "1           1  2020-11-03  Central bank interest rate cuts across emergin...   \n",
       "2           2  2020-11-03  Central bank interest rate cuts across emergin...   \n",
       "3           3  2020-11-03  Central bank interest rate cuts across emergin...   \n",
       "4           4  2020-11-23  After the panic comes the bailout. And after t...   \n",
       "\n",
       "  language                                               text  \\\n",
       "0       en  LONDON/MILAN (Reuters) - European bank stocks ...   \n",
       "1       en  LONDON (Reuters) - Central bank interest rate ...   \n",
       "2       en  LONDON (Reuters) - Central bank interest rate ...   \n",
       "3       en  A security guard's reflection is seen next to ...   \n",
       "4       en  LONDON (Reuters Breakingviews) - After the pan...   \n",
       "\n",
       "                                               title  \n",
       "0  Strongest rally since 2008 fuels hopes of Euro...  \n",
       "1  Over and out: EM central bank 20-month easing ...  \n",
       "2  Over and out: EM central bank 20-month easing ...  \n",
       "3  GRAPHIC-Over and out: EM central bank 20-month...  \n",
       "4  Breakingviews - March’s market bailout demands...  "
      ]
     },
     "execution_count": 25,
     "metadata": {},
     "output_type": "execute_result"
    }
   ],
   "source": [
    "# Fetch only English news\n",
    "news_en_df =df[df[\"language\"] == \"en\"]\n",
    "\n",
    "news_en_df.head()                 "
   ]
  },
  {
   "cell_type": "markdown",
   "metadata": {},
   "source": [
    "### Calculating VADER Sentiment Score for News Titles and Text\n",
    "\n",
    "As you know the `compound` score could be used to get a normalized score for a sentiment, in this section you have to create a function called `get_sentiment(score)` that will return a normalized value of sentiment for the `score` parameter based on the rules you learn. This function should return `1` for positive sentiment, `-1` for negative sentiment, and `0` for neutral sentiment."
   ]
  },
  {
   "cell_type": "code",
   "execution_count": 26,
   "metadata": {},
   "outputs": [],
   "source": [
    "# Sentiment calculation based on compound score\n",
    "def get_sentiment(score):\n",
    "    \"\"\"\n",
    "    Calculates the sentiment based on the compound score.\n",
    "    \"\"\"\n",
    "    result = 0 \n",
    "    if score >= 0.05:\n",
    "        result = 1\n",
    "    elif score <= -0.05:\n",
    "        result = -1\n",
    "        \n",
    "    return result\n",
    "\n"
   ]
  },
  {
   "cell_type": "markdown",
   "metadata": {},
   "source": [
    "Use the the VADER sentiment module from `NLTK` to score the sentiment of every news article title and text in english; you should append ten new columns to the English news DataFrame to store the results as follows.\n",
    "\n",
    "* Title's compound score\n",
    "* Title's positive score\n",
    "* Title's neutral score\n",
    "* Title's negative score\n",
    "* Title's normalized score (using the `get_sentiment()` function)\n",
    "* Text's compound score\n",
    "* Text's positive score\n",
    "* Text's neutral score\n",
    "* Text's negative score\n",
    "* Text's normalized score (using the `get_sentiment()` function)"
   ]
  },
  {
   "cell_type": "code",
   "execution_count": null,
   "metadata": {},
   "outputs": [],
   "source": [
    "# Sentiment scores dictionaries\n",
    "title_sent = { \"title_compound\": [],\"title_pos\":[],\"title_neu\":[],\"title_neg\":[], \"title_sent\":[],}\n",
    "\n",
    "text_sent = {\"text_compound\": [],\"text_pos\":[],\"text_neu\":[],\"text_neg\":[], \"text_sent\":[],}\n",
    "\n",
    "# "
   ]
  },
  {
   "cell_type": "markdown",
   "metadata": {},
   "source": [
    "### Analyzing Sentiments Results\n",
    "\n",
    "How the sentiment of the title and the text differs on news articles?\n",
    "\n",
    "To answer this question, on this section you will create a bar chart contrasting the normalized sentiment for the title and the text of each news article. Use the build-in `plot()` method of the Pandas DataFrame to create a bar chart like the one bellow. Be aware that you chart might differ from this one due to is made from a different news DataFrame."
   ]
  },
  {
   "cell_type": "code",
   "execution_count": null,
   "metadata": {},
   "outputs": [],
   "source": [
    "\n"
   ]
  },
  {
   "cell_type": "markdown",
   "metadata": {},
   "source": [
    "Finally get the descriptive statistics from the English news DataFrame and discuss the analysis results with your partners."
   ]
  },
  {
   "cell_type": "code",
   "execution_count": null,
   "metadata": {},
   "outputs": [],
   "source": [
    "\n"
   ]
  }
 ],
 "metadata": {
  "file_extension": ".py",
  "kernelspec": {
   "display_name": "Python 3",
   "language": "python",
   "name": "python3"
  },
  "language_info": {
   "codemirror_mode": {
    "name": "ipython",
    "version": 3
   },
   "file_extension": ".py",
   "mimetype": "text/x-python",
   "name": "python",
   "nbconvert_exporter": "python",
   "pygments_lexer": "ipython3",
   "version": "3.7.7"
  },
  "mimetype": "text/x-python",
  "name": "python",
  "npconvert_exporter": "python",
  "pygments_lexer": "ipython3",
  "version": 3
 },
 "nbformat": 4,
 "nbformat_minor": 4
}

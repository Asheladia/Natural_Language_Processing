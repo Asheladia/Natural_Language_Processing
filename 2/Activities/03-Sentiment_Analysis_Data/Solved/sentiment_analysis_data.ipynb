{
 "cells": [
  {
   "cell_type": "markdown",
   "metadata": {},
   "source": [
    "# Instructor Do: Getting Data for Sentiment Analysis"
   ]
  },
  {
   "cell_type": "code",
   "execution_count": 1,
   "metadata": {},
   "outputs": [
    {
     "data": {
      "text/plain": [
       "True"
      ]
     },
     "execution_count": 1,
     "metadata": {},
     "output_type": "execute_result"
    }
   ],
   "source": [
    "# Initial imports\n",
    "import os\n",
    "import pandas as pd\n",
    "from newsapi import NewsApiClient\n",
    "from dotenv import load_dotenv\n",
    "load_dotenv()\n"
   ]
  },
  {
   "cell_type": "code",
   "execution_count": 2,
   "metadata": {},
   "outputs": [],
   "source": [
    "# Reading the News API key enviroment variable\n",
    "api_key = os.getenv(\"Api_keys.env\")\n",
    "\n"
   ]
  },
  {
   "cell_type": "code",
   "execution_count": 11,
   "metadata": {},
   "outputs": [],
   "source": [
    "# Create a newsapi client\n",
    "newsapi = NewsApiClient(api_key= \"22b1baf9e3d84f549a60cd9ca7881995\")\n",
    "\n"
   ]
  },
  {
   "cell_type": "code",
   "execution_count": 13,
   "metadata": {},
   "outputs": [
    {
     "data": {
      "text/plain": [
       "{'status': 'ok',\n",
       " 'totalResults': 5,\n",
       " 'articles': [{'source': {'id': None, 'name': 'Fox Business'},\n",
       "   'author': 'Lucas Manfredi',\n",
       "   'title': 'Los Angeles County COVID data reveals 3.1% of cases traced to restaurants, bars - Fox Business',\n",
       "   'description': 'According to new data from Los Angeles County\\'s Department of Public Health, COVID-19 cases traced back to the county\\'s restaurants and bars accounted for just 3.1%, or 70 of the total 2,257 confirmed cases found from 204 \"outbreak\" locations.',\n",
       "   'url': 'https://www.foxbusiness.com/lifestyle/la-county-covid-stats-reveal-3-1-of-cases-traced-to-restaurants-bars',\n",
       "   'urlToImage': 'https://a57.foxnews.com/static.foxbusiness.com/foxbusiness.com/content/uploads/2020/11/0/0/AP20325179184007.jpg?ve=1&tl=1',\n",
       "   'publishedAt': '2020-11-23T21:26:04Z',\n",
       "   'content': \"According to new data from Los Angeles County's Department of Public Health, COVID-19 cases traced back to the county's restaurants and bars accounted for just 3.1%, or 70 of the total 2,257 confirme… [+5008 chars]\"},\n",
       "  {'source': {'id': 'fox-news', 'name': 'Fox News'},\n",
       "   'author': 'Madeline Farber',\n",
       "   'title': 'Gathering for Thanksgiving amid coronavirus worth the risk, 1 in 3 parents say - Fox News',\n",
       "   'description': 'Flouting recommendations from federal health officials, a third of parents who responded to a survey said they plan to see their families in-person this year despite the risk of COVID-19.',\n",
       "   'url': 'https://www.foxnews.com/health/gathering-thanksgiving-coronavirus-risk-survey',\n",
       "   'urlToImage': 'https://static.foxnews.com/foxnews.com/content/uploads/2020/11/thanksgiving.jpg',\n",
       "   'publishedAt': '2020-11-23T21:24:30Z',\n",
       "   'content': 'Flouting recommendations from federal health officials, a third of parents who responded to a survey said they plan to see their families in person this year despite the risk of COVID-19.\\xa0\\r\\nOne in th… [+3316 chars]'},\n",
       "  {'source': {'id': None, 'name': 'CNBC'},\n",
       "   'author': 'Berkeley Lovelace Jr.',\n",
       "   'title': \"Doctors say CDC should warn people the side effects from Covid vaccine shots won't be 'a walk in the park' - CNBC\",\n",
       "   'description': 'Doctors urge the CDC to be transparent about the side effects people may experience after getting their first shot of a coronavirus vaccine.',\n",
       "   'url': 'https://www.cnbc.com/2020/11/23/covid-vaccine-cdc-should-warn-people-the-side-effects-from-shots-wont-be-walk-in-the-park-.html',\n",
       "   'urlToImage': 'https://image.cnbcfm.com/api/v1/image/106717234-16010338652020-09-25t020728z_2132933524_rc2e5j92ltke_rtrmadp_0_health-coronavirus-usa.jpeg?v=1606163474',\n",
       "   'publishedAt': '2020-11-23T21:19:00Z',\n",
       "   'content': 'Public health officials and drugmakers must be transparent about the side effects people may experience after getting their first shot of a coronavirus vaccine, doctors urged during a meeting Monday … [+3618 chars]'},\n",
       "  {'source': {'id': None, 'name': 'Baltimore Sun'},\n",
       "   'author': 'Jonas Shaffer',\n",
       "   'title': 'Ravens’ Mark Ingram, J.K. Dobbins test positive for COVID-19, briefly closing team facility - Baltimore Sun',\n",
       "   'description': 'The Ravens said they were informed of the positive tests late Sunday night, indicating that the tests were taken before Sunday’s game against the Tennessee Titans.',\n",
       "   'url': 'https://www.baltimoresun.com/sports/ravens/bs-sp-ravens-covid-steelers-20201123-fs7eyqj6ajdu3gfqrvbcjzuo3e-story.html',\n",
       "   'urlToImage': 'https://www.baltimoresun.com/resizer/CKi9JJo_vf-yoZtsO4QY3MIbMUk=/1200x0/top/cloudfront-us-east-1.images.arcpublishing.com/tronc/XVWXL2PC65BU7KY72DIXPLMNQQ.jpg',\n",
       "   'publishedAt': '2020-11-23T21:14:46Z',\n",
       "   'content': None},\n",
       "  {'source': {'id': None, 'name': 'New York Post'},\n",
       "   'author': 'Jackie Salo',\n",
       "   'title': 'Chaos erupts at Shanghai airport after mass COVID-19 testing ordered over cluster - New York Post ',\n",
       "   'description': 'One of Shanghai’s international airports descended into chaos after officials ordered mass COVID-19 testing for workers in response to a small cluster of cases detected among cargo handlers. …',\n",
       "   'url': 'https://nypost.com/2020/11/23/chaos-erupts-at-shanghai-airport-after-mass-covid-19-testing-ordered/',\n",
       "   'urlToImage': 'https://nypost.com/wp-content/uploads/sites/2/2020/11/shanghai-airport2.jpg?quality=90&strip=all&w=1200',\n",
       "   'publishedAt': '2020-11-23T18:28:00Z',\n",
       "   'content': 'One of Shanghai’s international airports descended into chaos after officials ordered mass COVID-19 testing for workers in response to a small cluster of cases detected among cargo handlers.\\r\\nFootage… [+1477 chars]'}]}"
      ]
     },
     "execution_count": 13,
     "metadata": {},
     "output_type": "execute_result"
    }
   ],
   "source": [
    "# Fetch top news articles about oil\n",
    "oil_headlines = newsapi.get_top_headlines(q=\"covid\", language=\"en\", country=\"us\")\n",
    "oil_headlines\n",
    "\n"
   ]
  },
  {
   "cell_type": "code",
   "execution_count": 23,
   "metadata": {},
   "outputs": [
    {
     "name": "stdout",
     "output_type": "stream",
     "text": [
      "Total articles about oil: 5\n"
     ]
    },
    {
     "data": {
      "text/plain": [
       "{'source': {'id': None, 'name': 'CNBC'},\n",
       " 'author': 'Berkeley Lovelace Jr.',\n",
       " 'title': \"Doctors say CDC should warn people the side effects from Covid vaccine shots won't be 'a walk in the park' - CNBC\",\n",
       " 'description': 'Doctors urge the CDC to be transparent about the side effects people may experience after getting their first shot of a coronavirus vaccine.',\n",
       " 'url': 'https://www.cnbc.com/2020/11/23/covid-vaccine-cdc-should-warn-people-the-side-effects-from-shots-wont-be-walk-in-the-park-.html',\n",
       " 'urlToImage': 'https://image.cnbcfm.com/api/v1/image/106717234-16010338652020-09-25t020728z_2132933524_rc2e5j92ltke_rtrmadp_0_health-coronavirus-usa.jpeg?v=1606163474',\n",
       " 'publishedAt': '2020-11-23T21:19:00Z',\n",
       " 'content': 'Public health officials and drugmakers must be transparent about the side effects people may experience after getting their first shot of a coronavirus vaccine, doctors urged during a meeting Monday … [+3618 chars]'}"
      ]
     },
     "execution_count": 23,
     "metadata": {},
     "output_type": "execute_result"
    }
   ],
   "source": [
    "# Print total articles\n",
    "print(f\"Total articles about oil: {oil_headlines['totalResults']}\")\n",
    "\n",
    "# Show sample article\n",
    "oil_headlines[\"articles\"][2]\n",
    "\n"
   ]
  },
  {
   "cell_type": "code",
   "execution_count": 15,
   "metadata": {},
   "outputs": [
    {
     "data": {
      "text/html": [
       "<div>\n",
       "<style scoped>\n",
       "    .dataframe tbody tr th:only-of-type {\n",
       "        vertical-align: middle;\n",
       "    }\n",
       "\n",
       "    .dataframe tbody tr th {\n",
       "        vertical-align: top;\n",
       "    }\n",
       "\n",
       "    .dataframe thead th {\n",
       "        text-align: right;\n",
       "    }\n",
       "</style>\n",
       "<table border=\"1\" class=\"dataframe\">\n",
       "  <thead>\n",
       "    <tr style=\"text-align: right;\">\n",
       "      <th></th>\n",
       "      <th>author</th>\n",
       "      <th>content</th>\n",
       "      <th>description</th>\n",
       "      <th>publishedAt</th>\n",
       "      <th>source</th>\n",
       "      <th>title</th>\n",
       "      <th>url</th>\n",
       "      <th>urlToImage</th>\n",
       "    </tr>\n",
       "  </thead>\n",
       "  <tbody>\n",
       "    <tr>\n",
       "      <th>0</th>\n",
       "      <td>Lucas Manfredi</td>\n",
       "      <td>According to new data from Los Angeles County'...</td>\n",
       "      <td>According to new data from Los Angeles County'...</td>\n",
       "      <td>2020-11-23T21:26:04Z</td>\n",
       "      <td>{'id': None, 'name': 'Fox Business'}</td>\n",
       "      <td>Los Angeles County COVID data reveals 3.1% of ...</td>\n",
       "      <td>https://www.foxbusiness.com/lifestyle/la-count...</td>\n",
       "      <td>https://a57.foxnews.com/static.foxbusiness.com...</td>\n",
       "    </tr>\n",
       "    <tr>\n",
       "      <th>1</th>\n",
       "      <td>Madeline Farber</td>\n",
       "      <td>Flouting recommendations from federal health o...</td>\n",
       "      <td>Flouting recommendations from federal health o...</td>\n",
       "      <td>2020-11-23T21:24:30Z</td>\n",
       "      <td>{'id': 'fox-news', 'name': 'Fox News'}</td>\n",
       "      <td>Gathering for Thanksgiving amid coronavirus wo...</td>\n",
       "      <td>https://www.foxnews.com/health/gathering-thank...</td>\n",
       "      <td>https://static.foxnews.com/foxnews.com/content...</td>\n",
       "    </tr>\n",
       "    <tr>\n",
       "      <th>2</th>\n",
       "      <td>Berkeley Lovelace Jr.</td>\n",
       "      <td>Public health officials and drugmakers must be...</td>\n",
       "      <td>Doctors urge the CDC to be transparent about t...</td>\n",
       "      <td>2020-11-23T21:19:00Z</td>\n",
       "      <td>{'id': None, 'name': 'CNBC'}</td>\n",
       "      <td>Doctors say CDC should warn people the side ef...</td>\n",
       "      <td>https://www.cnbc.com/2020/11/23/covid-vaccine-...</td>\n",
       "      <td>https://image.cnbcfm.com/api/v1/image/10671723...</td>\n",
       "    </tr>\n",
       "    <tr>\n",
       "      <th>3</th>\n",
       "      <td>Jonas Shaffer</td>\n",
       "      <td>None</td>\n",
       "      <td>The Ravens said they were informed of the posi...</td>\n",
       "      <td>2020-11-23T21:14:46Z</td>\n",
       "      <td>{'id': None, 'name': 'Baltimore Sun'}</td>\n",
       "      <td>Ravens’ Mark Ingram, J.K. Dobbins test positiv...</td>\n",
       "      <td>https://www.baltimoresun.com/sports/ravens/bs-...</td>\n",
       "      <td>https://www.baltimoresun.com/resizer/CKi9JJo_v...</td>\n",
       "    </tr>\n",
       "    <tr>\n",
       "      <th>4</th>\n",
       "      <td>Jackie Salo</td>\n",
       "      <td>One of Shanghai’s international airports desce...</td>\n",
       "      <td>One of Shanghai’s international airports desce...</td>\n",
       "      <td>2020-11-23T18:28:00Z</td>\n",
       "      <td>{'id': None, 'name': 'New York Post'}</td>\n",
       "      <td>Chaos erupts at Shanghai airport after mass CO...</td>\n",
       "      <td>https://nypost.com/2020/11/23/chaos-erupts-at-...</td>\n",
       "      <td>https://nypost.com/wp-content/uploads/sites/2/...</td>\n",
       "    </tr>\n",
       "  </tbody>\n",
       "</table>\n",
       "</div>"
      ],
      "text/plain": [
       "                  author                                            content  \\\n",
       "0         Lucas Manfredi  According to new data from Los Angeles County'...   \n",
       "1        Madeline Farber  Flouting recommendations from federal health o...   \n",
       "2  Berkeley Lovelace Jr.  Public health officials and drugmakers must be...   \n",
       "3          Jonas Shaffer                                               None   \n",
       "4            Jackie Salo  One of Shanghai’s international airports desce...   \n",
       "\n",
       "                                         description           publishedAt  \\\n",
       "0  According to new data from Los Angeles County'...  2020-11-23T21:26:04Z   \n",
       "1  Flouting recommendations from federal health o...  2020-11-23T21:24:30Z   \n",
       "2  Doctors urge the CDC to be transparent about t...  2020-11-23T21:19:00Z   \n",
       "3  The Ravens said they were informed of the posi...  2020-11-23T21:14:46Z   \n",
       "4  One of Shanghai’s international airports desce...  2020-11-23T18:28:00Z   \n",
       "\n",
       "                                   source  \\\n",
       "0    {'id': None, 'name': 'Fox Business'}   \n",
       "1  {'id': 'fox-news', 'name': 'Fox News'}   \n",
       "2            {'id': None, 'name': 'CNBC'}   \n",
       "3   {'id': None, 'name': 'Baltimore Sun'}   \n",
       "4   {'id': None, 'name': 'New York Post'}   \n",
       "\n",
       "                                               title  \\\n",
       "0  Los Angeles County COVID data reveals 3.1% of ...   \n",
       "1  Gathering for Thanksgiving amid coronavirus wo...   \n",
       "2  Doctors say CDC should warn people the side ef...   \n",
       "3  Ravens’ Mark Ingram, J.K. Dobbins test positiv...   \n",
       "4  Chaos erupts at Shanghai airport after mass CO...   \n",
       "\n",
       "                                                 url  \\\n",
       "0  https://www.foxbusiness.com/lifestyle/la-count...   \n",
       "1  https://www.foxnews.com/health/gathering-thank...   \n",
       "2  https://www.cnbc.com/2020/11/23/covid-vaccine-...   \n",
       "3  https://www.baltimoresun.com/sports/ravens/bs-...   \n",
       "4  https://nypost.com/2020/11/23/chaos-erupts-at-...   \n",
       "\n",
       "                                          urlToImage  \n",
       "0  https://a57.foxnews.com/static.foxbusiness.com...  \n",
       "1  https://static.foxnews.com/foxnews.com/content...  \n",
       "2  https://image.cnbcfm.com/api/v1/image/10671723...  \n",
       "3  https://www.baltimoresun.com/resizer/CKi9JJo_v...  \n",
       "4  https://nypost.com/wp-content/uploads/sites/2/...  "
      ]
     },
     "execution_count": 15,
     "metadata": {},
     "output_type": "execute_result"
    }
   ],
   "source": [
    "# Transform the response dictionary to a DataFrame\n",
    "oil_df = pd.DataFrame.from_dict(oil_headlines[\"articles\"])\n",
    "\n",
    "oil_df.head()\n",
    "\n"
   ]
  },
  {
   "cell_type": "code",
   "execution_count": 16,
   "metadata": {},
   "outputs": [
    {
     "name": "stdout",
     "output_type": "stream",
     "text": [
      "Total articles about Facebook Libra: 77\n"
     ]
    },
    {
     "data": {
      "text/plain": [
       "{'source': {'id': 'reuters', 'name': 'Reuters'},\n",
       " 'author': 'Reuters Staff',\n",
       " 'title': \"Big-tech's stablecoins may hurt privacy and innovation: ECB - Reuters\",\n",
       " 'description': \"A stablecoin managed by a big tech company, like Facebook's <FB.O> proposed libra, would raise concerns about data protection and even choke financial innovation, European Central Bank board member Fabio Panetta said on Wednesday.\",\n",
       " 'url': 'https://www.reuters.com/article/us-ecb-policy-crypto-idUSKBN27K12V',\n",
       " 'urlToImage': 'https://static.reuters.com/resources/r/?m=02&d=20201104&t=2&i=1539949013&r=LYNXMPEGA30NS&w=800',\n",
       " 'publishedAt': '2020-11-04T09:07:00Z',\n",
       " 'content': 'By Reuters Staff\\r\\nFILE PHOTO: Shadow of a 3D-printed Facebook Libra cryptocurrency logo is seen near cryptocurrency representation in this illustration taken, September 13, 2019. REUTERS/Dado Ruvic\\r\\n… [+415 chars]'}"
      ]
     },
     "execution_count": 16,
     "metadata": {},
     "output_type": "execute_result"
    }
   ],
   "source": [
    "# Fetch all the news about Facebook Libra\n",
    "libra_headlines = newsapi.get_everything(\n",
    "    q=\"facebook libra\", language=\"en\", sort_by=\"relevancy\"\n",
    ")\n",
    "\n",
    "# Print total articles\n",
    "print(f\"Total articles about Facebook Libra: {libra_headlines['totalResults']}\")\n",
    "\n",
    "# Show sample article\n",
    "libra_headlines[\"articles\"][0]\n",
    "\n"
   ]
  },
  {
   "cell_type": "code",
   "execution_count": 17,
   "metadata": {},
   "outputs": [
    {
     "data": {
      "text/html": [
       "<div>\n",
       "<style scoped>\n",
       "    .dataframe tbody tr th:only-of-type {\n",
       "        vertical-align: middle;\n",
       "    }\n",
       "\n",
       "    .dataframe tbody tr th {\n",
       "        vertical-align: top;\n",
       "    }\n",
       "\n",
       "    .dataframe thead th {\n",
       "        text-align: right;\n",
       "    }\n",
       "</style>\n",
       "<table border=\"1\" class=\"dataframe\">\n",
       "  <thead>\n",
       "    <tr style=\"text-align: right;\">\n",
       "      <th></th>\n",
       "      <th>author</th>\n",
       "      <th>content</th>\n",
       "      <th>description</th>\n",
       "      <th>publishedAt</th>\n",
       "      <th>source</th>\n",
       "      <th>title</th>\n",
       "      <th>url</th>\n",
       "      <th>urlToImage</th>\n",
       "    </tr>\n",
       "  </thead>\n",
       "  <tbody>\n",
       "    <tr>\n",
       "      <th>0</th>\n",
       "      <td>Reuters Staff</td>\n",
       "      <td>By Reuters Staff\\r\\nFILE PHOTO: Shadow of a 3D...</td>\n",
       "      <td>A stablecoin managed by a big tech company, li...</td>\n",
       "      <td>2020-11-04T09:07:00Z</td>\n",
       "      <td>{'id': 'reuters', 'name': 'Reuters'}</td>\n",
       "      <td>Big-tech's stablecoins may hurt privacy and in...</td>\n",
       "      <td>https://www.reuters.com/article/us-ecb-policy-...</td>\n",
       "      <td>https://static.reuters.com/resources/r/?m=02&amp;d...</td>\n",
       "    </tr>\n",
       "    <tr>\n",
       "      <th>1</th>\n",
       "      <td>Reuters Staff</td>\n",
       "      <td>By Reuters Staff\\r\\nFILE PHOTO: Shadow of a 3D...</td>\n",
       "      <td>A stablecoin managed by a big tech company, li...</td>\n",
       "      <td>2020-11-04T09:07:00Z</td>\n",
       "      <td>{'id': 'reuters', 'name': 'Reuters'}</td>\n",
       "      <td>Big-tech's stablecoins may hurt privacy and in...</td>\n",
       "      <td>https://uk.reuters.com/article/us-ecb-policy-c...</td>\n",
       "      <td>https://static.reuters.com/resources/r/?m=02&amp;d...</td>\n",
       "    </tr>\n",
       "    <tr>\n",
       "      <th>2</th>\n",
       "      <td>msmash</td>\n",
       "      <td>A paper coauthored by scientists at Facebook's...</td>\n",
       "      <td>As work continues on Novi, Facebook's digital ...</td>\n",
       "      <td>2020-11-06T21:30:00Z</td>\n",
       "      <td>{'id': None, 'name': 'Slashdot.org'}</td>\n",
       "      <td>Facebook Claims Its Proposed Payments Network ...</td>\n",
       "      <td>https://tech.slashdot.org/story/20/11/06/21623...</td>\n",
       "      <td>https://a.fsdn.com/sd/topics/facebook_64.png</td>\n",
       "    </tr>\n",
       "    <tr>\n",
       "      <th>3</th>\n",
       "      <td>Anna Irrera</td>\n",
       "      <td>LONDON (Reuters) - Bitcoin's BTC=BTSP price ro...</td>\n",
       "      <td>Bitcoin's &lt;BTC=BTSP&gt; price rose to more than $...</td>\n",
       "      <td>2020-11-05T15:23:00Z</td>\n",
       "      <td>{'id': 'reuters', 'name': 'Reuters'}</td>\n",
       "      <td>Bitcoin hits highest level since Jan. 2018 ami...</td>\n",
       "      <td>https://www.reuters.com/article/us-crypto-curr...</td>\n",
       "      <td>https://static.reuters.com/resources/r/?m=02&amp;d...</td>\n",
       "    </tr>\n",
       "    <tr>\n",
       "      <th>4</th>\n",
       "      <td>Anna Irrera</td>\n",
       "      <td>LONDON (Reuters) - Bitcoins price rose to more...</td>\n",
       "      <td>Bitcoin's price rose to more than $14,900 on T...</td>\n",
       "      <td>2020-11-05T15:22:00Z</td>\n",
       "      <td>{'id': 'reuters', 'name': 'Reuters'}</td>\n",
       "      <td>Bitcoin hits highest level since January 2018 ...</td>\n",
       "      <td>https://www.reuters.com/article/us-crypto-curr...</td>\n",
       "      <td>https://static.reuters.com/resources/r/?m=02&amp;d...</td>\n",
       "    </tr>\n",
       "  </tbody>\n",
       "</table>\n",
       "</div>"
      ],
      "text/plain": [
       "          author                                            content  \\\n",
       "0  Reuters Staff  By Reuters Staff\\r\\nFILE PHOTO: Shadow of a 3D...   \n",
       "1  Reuters Staff  By Reuters Staff\\r\\nFILE PHOTO: Shadow of a 3D...   \n",
       "2         msmash  A paper coauthored by scientists at Facebook's...   \n",
       "3    Anna Irrera  LONDON (Reuters) - Bitcoin's BTC=BTSP price ro...   \n",
       "4    Anna Irrera  LONDON (Reuters) - Bitcoins price rose to more...   \n",
       "\n",
       "                                         description           publishedAt  \\\n",
       "0  A stablecoin managed by a big tech company, li...  2020-11-04T09:07:00Z   \n",
       "1  A stablecoin managed by a big tech company, li...  2020-11-04T09:07:00Z   \n",
       "2  As work continues on Novi, Facebook's digital ...  2020-11-06T21:30:00Z   \n",
       "3  Bitcoin's <BTC=BTSP> price rose to more than $...  2020-11-05T15:23:00Z   \n",
       "4  Bitcoin's price rose to more than $14,900 on T...  2020-11-05T15:22:00Z   \n",
       "\n",
       "                                 source  \\\n",
       "0  {'id': 'reuters', 'name': 'Reuters'}   \n",
       "1  {'id': 'reuters', 'name': 'Reuters'}   \n",
       "2  {'id': None, 'name': 'Slashdot.org'}   \n",
       "3  {'id': 'reuters', 'name': 'Reuters'}   \n",
       "4  {'id': 'reuters', 'name': 'Reuters'}   \n",
       "\n",
       "                                               title  \\\n",
       "0  Big-tech's stablecoins may hurt privacy and in...   \n",
       "1  Big-tech's stablecoins may hurt privacy and in...   \n",
       "2  Facebook Claims Its Proposed Payments Network ...   \n",
       "3  Bitcoin hits highest level since Jan. 2018 ami...   \n",
       "4  Bitcoin hits highest level since January 2018 ...   \n",
       "\n",
       "                                                 url  \\\n",
       "0  https://www.reuters.com/article/us-ecb-policy-...   \n",
       "1  https://uk.reuters.com/article/us-ecb-policy-c...   \n",
       "2  https://tech.slashdot.org/story/20/11/06/21623...   \n",
       "3  https://www.reuters.com/article/us-crypto-curr...   \n",
       "4  https://www.reuters.com/article/us-crypto-curr...   \n",
       "\n",
       "                                          urlToImage  \n",
       "0  https://static.reuters.com/resources/r/?m=02&d...  \n",
       "1  https://static.reuters.com/resources/r/?m=02&d...  \n",
       "2       https://a.fsdn.com/sd/topics/facebook_64.png  \n",
       "3  https://static.reuters.com/resources/r/?m=02&d...  \n",
       "4  https://static.reuters.com/resources/r/?m=02&d...  "
      ]
     },
     "execution_count": 17,
     "metadata": {},
     "output_type": "execute_result"
    }
   ],
   "source": [
    "# Transform the response dictionary to a DataFrame\n",
    "libra_df = pd.DataFrame.from_dict(libra_headlines[\"articles\"])\n",
    "\n",
    "libra_df.head()\n"
   ]
  },
  {
   "cell_type": "code",
   "execution_count": null,
   "metadata": {},
   "outputs": [],
   "source": []
  }
 ],
 "metadata": {
  "file_extension": ".py",
  "kernelspec": {
   "display_name": "Python 3",
   "language": "python",
   "name": "python3"
  },
  "language_info": {
   "codemirror_mode": {
    "name": "ipython",
    "version": 3
   },
   "file_extension": ".py",
   "mimetype": "text/x-python",
   "name": "python",
   "nbconvert_exporter": "python",
   "pygments_lexer": "ipython3",
   "version": "3.7.7"
  },
  "mimetype": "text/x-python",
  "name": "python",
  "npconvert_exporter": "python",
  "pygments_lexer": "ipython3",
  "version": 3
 },
 "nbformat": 4,
 "nbformat_minor": 4
}

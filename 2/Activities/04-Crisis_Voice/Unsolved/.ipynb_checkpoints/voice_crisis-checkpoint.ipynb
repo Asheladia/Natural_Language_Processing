{
 "cells": [
  {
   "cell_type": "markdown",
   "metadata": {},
   "source": [
    "# The Voice of the Crisis\n",
    "\n",
    "Despite it happening over a decade ago, the financial crisis of 2008 is still on the news due to its effects in global economy. On this activity you will retrieve news articles about this historical economic fact in English and French to capture the voice of the crisis in two different languages."
   ]
  },
  {
   "cell_type": "code",
   "execution_count": 70,
   "metadata": {},
   "outputs": [
    {
     "data": {
      "text/plain": [
       "True"
      ]
     },
     "execution_count": 70,
     "metadata": {},
     "output_type": "execute_result"
    }
   ],
   "source": [
    "# Initial imports\n",
    "import os\n",
    "import pandas as pd\n",
    "from pathlib import Path\n",
    "from newsapi import NewsApiClient\n",
    "from dotenv import load_dotenv\n",
    "load_dotenv()\n"
   ]
  },
  {
   "cell_type": "code",
   "execution_count": 71,
   "metadata": {},
   "outputs": [],
   "source": [
    "# Retrieve the News API key\n",
    "api_key = os.getenv(\"news_api\")\n",
    "\n"
   ]
  },
  {
   "cell_type": "code",
   "execution_count": 72,
   "metadata": {},
   "outputs": [
    {
     "data": {
      "text/plain": [
       "<newsapi.newsapi_client.NewsApiClient at 0x1a35c60f508>"
      ]
     },
     "execution_count": 72,
     "metadata": {},
     "output_type": "execute_result"
    }
   ],
   "source": [
    "# Create the newsapi client\n",
    "newsapi = NewsApiClient(api_key = '22b1baf9e3d84f549a60cd9ca7881995')\n",
    "\n",
    "newsapi"
   ]
  },
  {
   "cell_type": "markdown",
   "metadata": {},
   "source": [
    "## Getting News Articles in English\n",
    "\n",
    "In this section you have to fetch all the news articles using the News API with the keywords `financial`, `crisis`, and `2008` in English.\n",
    "\n"
   ]
  },
  {
   "cell_type": "code",
   "execution_count": 73,
   "metadata": {},
   "outputs": [
    {
     "data": {
      "text/plain": [
       "{'status': 'ok',\n",
       " 'totalResults': 2447,\n",
       " 'articles': [{'source': {'id': 'reuters', 'name': 'Reuters'},\n",
       "   'author': 'Julien Ponthus, Danilo Masoni',\n",
       "   'title': \"Strongest rally since 2008 fuels hopes of European bank stocks' revival - Reuters UK\",\n",
       "   'description': 'European bank stocks had their strongest two days since the 2008 financial crisis on Tuesday, as promising vaccine developments prompted their recovery.',\n",
       "   'url': 'https://www.reuters.com/article/uk-europe-banks-vaccine-idUKKBN27Q2DB',\n",
       "   'urlToImage': 'https://static.reuters.com/resources/r/?m=02&d=20201110&t=2&i=1540717856&r=LYNXMPEGA91C4&w=800',\n",
       "   'publishedAt': '2020-11-10T15:38:00Z',\n",
       "   'content': 'LONDON/MILAN (Reuters) - European bank stocks had their strongest two days since the 2008 financial crisis on Tuesday, as promising vaccine developments prompted their recovery.\\r\\nFILE PHOTO: A stock … [+2836 chars]'},\n",
       "  {'source': {'id': 'reuters', 'name': 'Reuters'},\n",
       "   'author': 'Karin Strohecker, Ritvik Carvalho',\n",
       "   'title': 'Over and out: EM central bank 20-month easing cycle grinds to a halt - Reuters',\n",
       "   'description': 'Central bank interest rate cuts across emerging markets ground to a halt in October, bringing to an end an easing cycle that had exceeded the one sparked by the 2008 financial crisis and the 2010 euro crisis.',\n",
       "   'url': 'https://www.reuters.com/article/us-emerging-rates-graphic-idUSKBN27J21E',\n",
       "   'urlToImage': 'https://s1.reutersmedia.net/resources_v2/images/rcom-default.png?w=800',\n",
       "   'publishedAt': '2020-11-03T15:48:00Z',\n",
       "   'content': 'LONDON (Reuters) - Central bank interest rate cuts across emerging markets ground to a halt in October, bringing to an end an easing cycle that had exceeded the one sparked by the 2008 financial cris… [+576 chars]'},\n",
       "  {'source': {'id': 'reuters', 'name': 'Reuters'},\n",
       "   'author': 'Karin Strohecker, Ritvik Carvalho',\n",
       "   'title': 'Over and out: EM central bank 20-month easing cycle grinds to a halt - Reuters UK',\n",
       "   'description': 'Central bank interest rate cuts across emerging markets ground to a halt in October, bringing to an end an easing cycle that had exceeded the one sparked by the 2008 financial crisis and the 2010 euro crisis.',\n",
       "   'url': 'https://uk.reuters.com/article/uk-emerging-rates-graphic-idUKKBN27J21K',\n",
       "   'urlToImage': 'https://s1.reutersmedia.net/resources_v2/images/rcom-default.png?w=800',\n",
       "   'publishedAt': '2020-11-03T15:55:00Z',\n",
       "   'content': 'LONDON (Reuters) - Central bank interest rate cuts across emerging markets ground to a halt in October, bringing to an end an easing cycle that had exceeded the one sparked by the 2008 financial cris… [+576 chars]'},\n",
       "  {'source': {'id': 'reuters', 'name': 'Reuters'},\n",
       "   'author': 'Karin Strohecker, Ritvik Carvalho',\n",
       "   'title': 'GRAPHIC-Over and out: EM central bank 20-month easing cycle grinds to a halt - Reuters.com',\n",
       "   'description': 'Central bank interest rate cuts across emerging markets ground to a halt in October, bringing to an end an easing cycle that had exceeded the one sparked by the 2008 financial crisis and the 2010 euro crisis.',\n",
       "   'url': 'https://www.reuters.com/article/emerging-rates-idUSKBN27J249',\n",
       "   'urlToImage': 'https://static.reuters.com/resources/r/?m=02&d=20201103&t=2&i=1539823628&r=LYNXMPEGA219C&w=800',\n",
       "   'publishedAt': '2020-11-03T15:44:00Z',\n",
       "   'content': \"A security guard's reflection is seen next to the logo of the Reserve Bank Of India (RBI) at the RBI headquarters in Mumbai, India, June 6, 2019. REUTERS/Francis Mascarenhas/File Photo\\r\\nLONDON (Reute… [+765 chars]\"},\n",
       "  {'source': {'id': 'reuters', 'name': 'Reuters'},\n",
       "   'author': 'Peter Thal Larsen',\n",
       "   'title': 'Breakingviews - March’s market bailout demands regulatory payback - Reuters',\n",
       "   'description': 'After the panic comes the bailout. And after the bailout comes the reckoning. In 2008, governments rescued banks and then embarked on a decade-long overhaul to ensure they would never need to do so again. This year’s pandemic-induced meltdown in financial mar…',\n",
       "   'url': 'https://www.reuters.com/article/us-g20-markets-regulation-breakingviews-idUSKBN2831MP',\n",
       "   'urlToImage': 'https://static.reuters.com/resources/r/?m=02&d=20201123&t=2&i=1542152766&r=LYNXMPEGAM0VK&w=800',\n",
       "   'publishedAt': '2020-11-23T13:30:00Z',\n",
       "   'content': 'LONDON (Reuters Breakingviews) - After the panic comes the bailout. And after the bailout comes the reckoning. In 2008, governments rescued banks and then embarked on a decade-long overhaul to ensure… [+5899 chars]'},\n",
       "  {'source': {'id': 'reuters', 'name': 'Reuters'},\n",
       "   'author': 'Reuters Staff',\n",
       "   'title': \"PNC to buy BBVA's U.S. banking arm for $11.6 billion in cash - Reuters\",\n",
       "   'description': 'PNC Financial Services Group Inc <PNC.N> said on Monday it would buy the U.S. business of Spanish lender BBVA <BBVA.MC> for $11.6 billion in cash, further consolidating the U.S. banking sector.',\n",
       "   'url': 'https://www.reuters.com/article/us-bbva-usa-m-a-pnc-finl-svc-cash-idUSKBN27W0JN',\n",
       "   'urlToImage': 'https://static.reuters.com/resources/r/?m=02&d=20201116&t=2&i=1541314650&r=LYNXMPEGAF0AP&w=800',\n",
       "   'publishedAt': '2020-11-16T06:19:00Z',\n",
       "   'content': 'By Reuters Staff\\r\\nFILE PHOTO: BBVA bank logo is pictured in Bogota, Colombia February 14, 2020. REUTERS/Luisa Gonzalez\\r\\n(Reuters) - PNC Financial Services Group Inc PNC.N said on Monday it would buy … [+292 chars]'},\n",
       "  {'source': {'id': 'reuters', 'name': 'Reuters'},\n",
       "   'author': 'Pete Schroeder',\n",
       "   'title': 'U.S. banks see several allies returned to key congressional seats - Reuters',\n",
       "   'description': \"Many Wall Street banks' favorite lawmakers were returned to Congress overnight, boding well for the industry which has been trying to rebuild a broad base of bipartisan support a decade after the financial crisis tarnished its image in Washington.\",\n",
       "   'url': 'https://www.reuters.com/article/us-usa-election-congress-finance-idUSKBN27K0WT',\n",
       "   'urlToImage': 'https://static.reuters.com/resources/r/?m=02&d=20201104&t=2&i=1539942304&r=LYNXMPEGA30L0&w=800',\n",
       "   'publishedAt': '2020-11-04T08:07:00Z',\n",
       "   'content': 'WASHINGTON (Reuters) - Many Wall Street banks favorite lawmakers were returned to Congress overnight, boding well for the industry which has been trying to rebuild a broad base of bipartisan support … [+3914 chars]'},\n",
       "  {'source': {'id': 'reuters', 'name': 'Reuters'},\n",
       "   'author': 'Pete Schroeder',\n",
       "   'title': 'U.S. banks see several allies returned to key congressional seats - Reuters India',\n",
       "   'description': \"Many Wall Street banks' favorite lawmakers were returned to Congress overnight, boding well for the industry which has been trying to rebuild a broad base of bipartisan support a decade after the financial crisis tarnished its image in Washington.\",\n",
       "   'url': 'https://in.reuters.com/article/us-usa-election-congress-finance-idINKBN27K0WT',\n",
       "   'urlToImage': 'https://static.reuters.com/resources/r/?m=02&d=20201104&t=2&i=1539940247&r=LYNXMPEGA30L0&w=800',\n",
       "   'publishedAt': '2020-11-04T08:11:00Z',\n",
       "   'content': 'WASHINGTON (Reuters) - Many Wall Street banks favorite lawmakers were returned to Congress overnight, boding well for the industry which has been trying to rebuild a broad base of bipartisan support … [+3957 chars]'},\n",
       "  {'source': {'id': 'reuters', 'name': 'Reuters'},\n",
       "   'author': 'Pete Schroeder',\n",
       "   'title': 'U.S. banks see several allies returned to key congressional seats - Reuters Canada',\n",
       "   'description': \"Many Wall Street banks' favorite lawmakers were returned to Congress overnight, boding well for the industry which has been trying to rebuild a broad base of bipartisan support a decade after the financial crisis tarnished its image in Washington.\",\n",
       "   'url': 'https://ca.reuters.com/article/us-usa-election-congress-finance-idCAKBN27K0WT',\n",
       "   'urlToImage': 'https://static.reuters.com/resources/r/?m=02&d=20201104&t=2&i=1539940247&r=LYNXMPEGA30L0&w=800',\n",
       "   'publishedAt': '2020-11-04T08:07:00Z',\n",
       "   'content': 'By Pete Schroeder\\r\\nWASHINGTON (Reuters) - Many Wall Street banks favorite lawmakers were returned to Congress overnight, boding well for the industry which has been trying to rebuild a broad base of … [+3976 chars]'},\n",
       "  {'source': {'id': 'reuters', 'name': 'Reuters'},\n",
       "   'author': 'Reuters Staff',\n",
       "   'title': \"PNC to buy BBVA's U.S. banking arm for $11.6 billion in cash - Reuters India\",\n",
       "   'description': 'PNC Financial Services Group Inc said on Monday it would buy the U.S. business of Spanish lender BBVA for $11.6 billion in cash, further consolidating the U.S. banking sector.',\n",
       "   'url': 'https://in.reuters.com/article/bbva-usa-m-a-pnc-finl-svc-idINKBN27W0JJ',\n",
       "   'urlToImage': 'https://static.reuters.com/resources/r/?m=02&d=20201116&t=2&i=1541315372&r=LYNXMPEGAF0AZ&w=800',\n",
       "   'publishedAt': '2020-11-16T06:25:00Z',\n",
       "   'content': 'By Reuters Staff\\r\\nFILE PHOTO: The logo above a PNC Bank is shown in Charlotte, North Carolina April 18, 2012. REUTERS/Chris Keane/File photo\\r\\n(Reuters) - PNC Financial Services Group Inc said on Mond… [+300 chars]'},\n",
       "  {'source': {'id': 'reuters', 'name': 'Reuters'},\n",
       "   'author': 'Ari Rabinovitch',\n",
       "   'title': 'Tel Aviv exchange sees stream of IPOs during coronavirus crisis - Reuters',\n",
       "   'description': 'Companies are lining up to go public in Tel Aviv at a rate unseen in over a decade with the stock exchange getting a much needed boost as coronavirus limitations prompt businesses to raise funds closer to home.',\n",
       "   'url': 'https://www.reuters.com/article/health-coronavirus-israel-bourse-int-idUSKBN27L12I',\n",
       "   'urlToImage': 'https://static.reuters.com/resources/r/?m=02&d=20201105&t=2&i=1540092841&r=LYNXMPEGA40NC&w=800',\n",
       "   'publishedAt': '2020-11-05T09:33:00Z',\n",
       "   'content': 'JERUSALEM (Reuters) - Companies are lining up to go public in Tel Aviv at a rate unseen in over a decade with the stock exchange getting a much needed boost as coronavirus limitations prompt business… [+1936 chars]'},\n",
       "  {'source': {'id': 'reuters', 'name': 'Reuters'},\n",
       "   'author': 'Greg Roumeliotis, David French',\n",
       "   'title': \"PNC nears deal to buy BBVA's U.S. banking arm for more than $10 billion - sources - Reuters India\",\n",
       "   'description': 'PNC Financial Services Group Inc <PNC.N> is nearing an all-cash deal to buy the U.S. business of Spanish lender BBVA <BBVA.MC> for more than $10 billion, further consolidating the U.S. banking sector, people familiar with the matter said on Sunday.',\n",
       "   'url': 'https://in.reuters.com/article/us-bbva-usa-m-a-pnc-finl-svc-idINKBN27W00Y',\n",
       "   'urlToImage': 'https://static.reuters.com/resources/r/?m=02&d=20201116&t=2&i=1541304457&r=LYNXMPEGAF00S&w=800',\n",
       "   'publishedAt': '2020-11-16T03:49:00Z',\n",
       "   'content': '(Reuters) - PNC Financial Services Group Inc PNC.N is nearing an all-cash deal to buy the U.S. business of Spanish lender BBVA BBVA.MC for more than $10 billion, further consolidating the U.S. bankin… [+3775 chars]'},\n",
       "  {'source': {'id': 'reuters', 'name': 'Reuters'},\n",
       "   'author': 'Reuters Staff',\n",
       "   'title': \"BOJ's Sakurai says global policy coordination kept FX moves stable - Reuters India\",\n",
       "   'description': 'Effective and quick policy coordination among major economies have helped keep currencies stable despite the shock caused by the coronavirus pandemic, Bank of Japan board member Makoto Sakurai said in a research paper released on Friday.',\n",
       "   'url': 'https://www.reuters.com/article/us-japan-economy-boj-sakurai-idINKBN27M15U',\n",
       "   'urlToImage': 'https://static.reuters.com/resources/r/?m=02&d=20201106&t=2&i=1540236965&r=LYNXMPEGA50OU&w=800',\n",
       "   'publishedAt': '2020-11-06T09:54:00Z',\n",
       "   'content': \"By Reuters Staff\\r\\nFILE PHOTO: Bank of Japan's (BOJ) board member Makoto Sakurai speaks during an interview with Reuters at the BOJ headquarters in Tokyo, Japan, September 1, 2016. REUTERS/Toru Hanai\\r… [+1831 chars]\"},\n",
       "  {'source': {'id': 'reuters', 'name': 'Reuters'},\n",
       "   'author': 'Reuters Staff',\n",
       "   'title': \"BOJ's Sakurai says global policy coordination kept FX moves stable - Reuters\",\n",
       "   'description': 'Effective and quick policy coordination among major economies have helped keep currencies stable despite the shock caused by the coronavirus pandemic, Bank of Japan board member Makoto Sakurai said in a research paper released on Friday.',\n",
       "   'url': 'https://www.reuters.com/article/us-japan-economy-boj-sakurai-idUSKBN27M15U',\n",
       "   'urlToImage': 'https://static.reuters.com/resources/r/?m=02&d=20201106&t=2&i=1540236965&r=LYNXMPEGA50OU&w=800',\n",
       "   'publishedAt': '2020-11-06T09:50:00Z',\n",
       "   'content': \"By Reuters Staff\\r\\nFILE PHOTO: Bank of Japan's (BOJ) board member Makoto Sakurai speaks during an interview with Reuters at the BOJ headquarters in Tokyo, Japan, September 1, 2016. REUTERS/Toru Hanai\\r… [+1831 chars]\"},\n",
       "  {'source': {'id': 'reuters', 'name': 'Reuters'},\n",
       "   'author': 'Reuters Staff',\n",
       "   'title': \"Bridgewater's Dalio supports Ant IPO suspension, bullish on China - Reuters\",\n",
       "   'description': \"Ray Dalio, founder of Bridgewater Associates, expressed support on Wednesday for China's abrupt decision to suspend Ant Group's record $37 billion listing, citing the need to curb risks from financial innovation.\",\n",
       "   'url': 'https://www.reuters.com/article/us-china-bridegwater-invest-idUSKBN27R0IR',\n",
       "   'urlToImage': 'https://static.reuters.com/resources/r/?m=02&d=20201111&t=2&i=1540800677&r=LYNXMPEGAA091&w=800',\n",
       "   'publishedAt': '2020-11-11T05:57:00Z',\n",
       "   'content': 'By Reuters Staff\\r\\nSHANGHAI (Reuters) - Ray Dalio, founder of Bridgewater Associates, expressed support on Wednesday for Chinas abrupt decision to suspend Ant Groups record $37 billion listing, citing… [+2048 chars]'},\n",
       "  {'source': {'id': 'reuters', 'name': 'Reuters'},\n",
       "   'author': 'Reuters Staff',\n",
       "   'title': 'UK faces skills shortage as COVID-19 splits job market, McKinsey says - Reuters India',\n",
       "   'description': 'Britain will face a growing skills shortage over the next decade if it does not start retraining and reskilling workers for the shift to a digital-based economy which has been sped up by the COVID-19 pandemic, a McKinsey report said on Monday.',\n",
       "   'url': 'https://in.reuters.com/article/health-coronavirus-britain-workforce-idINKBN27W1QI',\n",
       "   'urlToImage': 'https://static.reuters.com/resources/r/?m=02&d=20201116&t=2&i=1541361662&r=LYNXMPEGAF0XF&w=800',\n",
       "   'publishedAt': '2020-11-16T13:55:00Z',\n",
       "   'content': 'By Reuters Staff\\r\\nA person looks at the adverts in the window of a job agency in London, Britain October 13, 2020. REUTERS/Hannah McKay/Files\\r\\nLONDON (Reuters) - Britain will face a growing skills sh… [+1696 chars]'},\n",
       "  {'source': {'id': 'reuters', 'name': 'Reuters'},\n",
       "   'author': 'Reuters Staff',\n",
       "   'title': 'UK faces skills shortage as COVID-19 splits job market, McKinsey says - Reuters.com',\n",
       "   'description': 'Britain will face a growing skills shortage over the next decade if it does not start retraining and reskilling workers for the shift to a digital-based economy which has been sped up by the COVID-19 pandemic, a McKinsey report said on Monday.',\n",
       "   'url': 'https://www.reuters.com/article/uk-health-coronavirus-britain-workforce-idUSKBN27W1P0',\n",
       "   'urlToImage': 'https://static.reuters.com/resources/r/?m=02&d=20201116&t=2&i=1541361211&r=LYNXMPEGAF0WG&w=800',\n",
       "   'publishedAt': '2020-11-16T13:48:00Z',\n",
       "   'content': 'By Reuters Staff\\r\\nFILE PHOTO: People wearing face masks walk past a job recruitment centre amid the outbreak of the coronavirus disease (COVID-19) in Newcastle-under-Lyme, Staffordshire, Britain, Sep… [+1790 chars]'},\n",
       "  {'source': {'id': 'reuters', 'name': 'Reuters'},\n",
       "   'author': 'Jennifer Hughes',\n",
       "   'title': 'Breakingviews - Walmart sale is nod to Japan’s online Suga rush - Reuters',\n",
       "   'description': 'Walmart’s sale of a majority stake in its Seiyu supermarkets is an example of how a global health crisis can accelerate change even in the stodgiest of markets. The U.S. retail giant is offloading 65% to private equity shop KKR and 20% to Seiyu’s Japanese e-c…',\n",
       "   'url': 'https://www.reuters.com/article/us-seiyu-m-a-kkr-breakingviews-idUSKBN27W0D2',\n",
       "   'urlToImage': 'https://static.reuters.com/resources/r/?m=02&d=20201116&t=2&i=1541306004&r=LYNXMPEGAF072&w=800',\n",
       "   'publishedAt': '2020-11-16T04:17:00Z',\n",
       "   'content': 'A woman is reflected on a logo of Seiyu at its chainstore in Tokyo, Japan, July 12, 2018. REUTERS/Kim Kyung-Hoon \\r\\nHONG KONG (Reuters Breakingviews) - Walmarts sale of a majority stake in its Seiyu s… [+2645 chars]'},\n",
       "  {'source': {'id': 'reuters', 'name': 'Reuters'},\n",
       "   'author': 'Reuters Staff',\n",
       "   'title': 'NatWest swings to profit as pandemic loan charges fall - Reuters',\n",
       "   'description': 'British lender NatWest reported forecast-beating third quarter earnings on Friday, after setting aside a smaller cash pile in the period to deal with likely loan defaults due to the coronavirus pandemic.',\n",
       "   'url': 'https://www.reuters.com/article/natwest-results-idUSL4N2HK3XL',\n",
       "   'urlToImage': 'https://s1.reutersmedia.net/resources_v2/images/rcom-default.png?w=800',\n",
       "   'publishedAt': '2020-10-30T07:00:00Z',\n",
       "   'content': 'By Reuters Staff\\r\\nLONDON, Oct 30 (Reuters) - British lender NatWest reported forecast-beating third quarter earnings on Friday, after setting aside a smaller cash pile in the period to deal with like… [+865 chars]'},\n",
       "  {'source': {'id': 'reuters', 'name': 'Reuters'},\n",
       "   'author': 'Iain Withers, Lawrence White',\n",
       "   'title': 'NatWest swings to profit as pandemic loan charges fall - Reuters',\n",
       "   'description': 'NatWest <NWG.L> reported better than expected third quarter profit as COVID-19-linked provisions for bad loans dwindled, but it warned tougher times lie ahead as fresh social and economic restrictions to curb the pandemic begin to bite.',\n",
       "   'url': 'https://www.reuters.com/article/uk-natwest-results-idUSKBN27F0T1',\n",
       "   'urlToImage': 'https://static.reuters.com/resources/r/?m=02&d=20201030&t=2&i=1539384369&r=LYNXMPEG9T0H5&w=800',\n",
       "   'publishedAt': '2020-10-30T07:55:00Z',\n",
       "   'content': 'LONDON (Reuters) - NatWest NWG.L reported better than expected third quarter profit as COVID-19-linked provisions for bad loans dwindled, but it warned tougher times lie ahead as fresh social and eco… [+2469 chars]'}]}"
      ]
     },
     "execution_count": 73,
     "metadata": {},
     "output_type": "execute_result"
    }
   ],
   "source": [
    "financial_crisis = newsapi.get_everything(q ='crisis AND financial AND 2008', language='en')\n",
    "financial_crisis"
   ]
  },
  {
   "cell_type": "code",
   "execution_count": 74,
   "metadata": {},
   "outputs": [
    {
     "data": {
      "text/plain": [
       "2447"
      ]
     },
     "execution_count": 74,
     "metadata": {},
     "output_type": "execute_result"
    }
   ],
   "source": [
    "# Fetch news about the financial crisis on 2008 in English\n",
    "#[the `everything` endpoint documentation](https://newsapi.org/docs/endpoints/everything)\n",
    "financial_crisis = newsapi.get_everything(q ='crisis AND financial AND 2008', language='en')\n",
    "financial_crisis\n",
    "# Show the total number of news\n",
    "\n",
    "\n",
    "\n",
    "# Show sample article\n",
    "financial_crisis[\"totalResults\"]"
   ]
  },
  {
   "cell_type": "markdown",
   "metadata": {},
   "source": [
    "## Getting News Articles in French\n",
    "\n",
    "Fetching news on French will require keywords on this language, so retrieve all the news articles using the News API using the keywords `crise`, `financière`, and `2008`."
   ]
  },
  {
   "cell_type": "code",
   "execution_count": 75,
   "metadata": {},
   "outputs": [
    {
     "data": {
      "text/plain": [
       "132"
      ]
     },
     "execution_count": 75,
     "metadata": {},
     "output_type": "execute_result"
    }
   ],
   "source": [
    "# Fetch news about the financial crisis on 2008 in French\n",
    "crisis_news_fr = newsapi.get_everything(q = 'crise AND financière AND 2008', language='fr')\n",
    "\n",
    "# Show the total number of news\n",
    "crisis_news_fr[\"totalResults\"]\n"
   ]
  },
  {
   "cell_type": "markdown",
   "metadata": {},
   "source": [
    "## Create a DataFrame with All the Results\n",
    "\n",
    "The first task on this section is to create a function called `create_df(news, language)` that will transform the `articles` list in a DataFrame. This function will receive two parameters: `news` is the articles list and `language` is a string to specify the language of the news articles.\n",
    "\n",
    "The resulting DataFrame should have the following columns:\n",
    "\n",
    "* Title: The article's title\n",
    "* Description: The article's description\n",
    "* Text: The article's content\n",
    "* Date: The date when the article was published on the format `YYY-MM-DD` (eg. 2019-07-11)\n",
    "* Language: A string specifying the news language (`en` for English, `fr` for French)"
   ]
  },
  {
   "cell_type": "code",
   "execution_count": 82,
   "metadata": {},
   "outputs": [],
   "source": [
    "def create_df(news, language):\n",
    "    articles =[]\n",
    "    for article in news:\n",
    "        try:\n",
    "            title = article[\"title\"]\n",
    "            description = article[\"description\"]\n",
    "            text = article[\"content\"]\n",
    "            date = article[\"publishedAt\"][:10]\n",
    "            \n",
    "            articles.append({\"title\": title, \"description\": description, \"text\": text, \"date\": date, \"language\": language})\n",
    "        except AttributeError:\n",
    "            Print(\"oops!\")\n",
    "            \n",
    "    return pd.DataFrame(articles)\n",
    "\n"
   ]
  },
  {
   "cell_type": "markdown",
   "metadata": {},
   "source": [
    "Use the create_df() function to create a DataFrame for the English news and another for the French news."
   ]
  },
  {
   "cell_type": "code",
   "execution_count": 83,
   "metadata": {},
   "outputs": [],
   "source": [
    "# Create a DataFrame with the news in English\n",
    "crisis_en_df = create_df (financial_crisis[\"articles\"], \"en\")\n",
    "\n",
    "# Create a DataFrame with the news in French\n",
    "\n",
    "crisis_fr_df = create_df (crisis_news_fr['articles'], \"fr\")"
   ]
  },
  {
   "cell_type": "markdown",
   "metadata": {},
   "source": [
    "Concatenate both DataFrames having the English news at the top and the French news at the bottom."
   ]
  },
  {
   "cell_type": "code",
   "execution_count": null,
   "metadata": {},
   "outputs": [],
   "source": [
    "\n"
   ]
  },
  {
   "cell_type": "code",
   "execution_count": 84,
   "metadata": {},
   "outputs": [],
   "source": [
    "# Show the head articles (they are in English)\n",
    "\n",
    "crisis_df = pd.concat([crisis_en_df, crisis_fr_df])"
   ]
  },
  {
   "cell_type": "code",
   "execution_count": 85,
   "metadata": {},
   "outputs": [
    {
     "data": {
      "text/html": [
       "<div>\n",
       "<style scoped>\n",
       "    .dataframe tbody tr th:only-of-type {\n",
       "        vertical-align: middle;\n",
       "    }\n",
       "\n",
       "    .dataframe tbody tr th {\n",
       "        vertical-align: top;\n",
       "    }\n",
       "\n",
       "    .dataframe thead th {\n",
       "        text-align: right;\n",
       "    }\n",
       "</style>\n",
       "<table border=\"1\" class=\"dataframe\">\n",
       "  <thead>\n",
       "    <tr style=\"text-align: right;\">\n",
       "      <th></th>\n",
       "      <th>date</th>\n",
       "      <th>description</th>\n",
       "      <th>language</th>\n",
       "      <th>text</th>\n",
       "      <th>title</th>\n",
       "    </tr>\n",
       "  </thead>\n",
       "  <tbody>\n",
       "    <tr>\n",
       "      <th>0</th>\n",
       "      <td>2020-11-10</td>\n",
       "      <td>European bank stocks had their strongest two d...</td>\n",
       "      <td>en</td>\n",
       "      <td>LONDON/MILAN (Reuters) - European bank stocks ...</td>\n",
       "      <td>Strongest rally since 2008 fuels hopes of Euro...</td>\n",
       "    </tr>\n",
       "    <tr>\n",
       "      <th>1</th>\n",
       "      <td>2020-11-03</td>\n",
       "      <td>Central bank interest rate cuts across emergin...</td>\n",
       "      <td>en</td>\n",
       "      <td>LONDON (Reuters) - Central bank interest rate ...</td>\n",
       "      <td>Over and out: EM central bank 20-month easing ...</td>\n",
       "    </tr>\n",
       "    <tr>\n",
       "      <th>2</th>\n",
       "      <td>2020-11-03</td>\n",
       "      <td>Central bank interest rate cuts across emergin...</td>\n",
       "      <td>en</td>\n",
       "      <td>LONDON (Reuters) - Central bank interest rate ...</td>\n",
       "      <td>Over and out: EM central bank 20-month easing ...</td>\n",
       "    </tr>\n",
       "    <tr>\n",
       "      <th>3</th>\n",
       "      <td>2020-11-03</td>\n",
       "      <td>Central bank interest rate cuts across emergin...</td>\n",
       "      <td>en</td>\n",
       "      <td>A security guard's reflection is seen next to ...</td>\n",
       "      <td>GRAPHIC-Over and out: EM central bank 20-month...</td>\n",
       "    </tr>\n",
       "    <tr>\n",
       "      <th>4</th>\n",
       "      <td>2020-11-23</td>\n",
       "      <td>After the panic comes the bailout. And after t...</td>\n",
       "      <td>en</td>\n",
       "      <td>LONDON (Reuters Breakingviews) - After the pan...</td>\n",
       "      <td>Breakingviews - March’s market bailout demands...</td>\n",
       "    </tr>\n",
       "  </tbody>\n",
       "</table>\n",
       "</div>"
      ],
      "text/plain": [
       "         date                                        description language  \\\n",
       "0  2020-11-10  European bank stocks had their strongest two d...       en   \n",
       "1  2020-11-03  Central bank interest rate cuts across emergin...       en   \n",
       "2  2020-11-03  Central bank interest rate cuts across emergin...       en   \n",
       "3  2020-11-03  Central bank interest rate cuts across emergin...       en   \n",
       "4  2020-11-23  After the panic comes the bailout. And after t...       en   \n",
       "\n",
       "                                                text  \\\n",
       "0  LONDON/MILAN (Reuters) - European bank stocks ...   \n",
       "1  LONDON (Reuters) - Central bank interest rate ...   \n",
       "2  LONDON (Reuters) - Central bank interest rate ...   \n",
       "3  A security guard's reflection is seen next to ...   \n",
       "4  LONDON (Reuters Breakingviews) - After the pan...   \n",
       "\n",
       "                                               title  \n",
       "0  Strongest rally since 2008 fuels hopes of Euro...  \n",
       "1  Over and out: EM central bank 20-month easing ...  \n",
       "2  Over and out: EM central bank 20-month easing ...  \n",
       "3  GRAPHIC-Over and out: EM central bank 20-month...  \n",
       "4  Breakingviews - March’s market bailout demands...  "
      ]
     },
     "execution_count": 85,
     "metadata": {},
     "output_type": "execute_result"
    }
   ],
   "source": [
    "# Show the tail articles (they are in French)\n",
    "\n",
    "crisis_df.head()"
   ]
  },
  {
   "cell_type": "markdown",
   "metadata": {},
   "source": [
    "Save tha final DataFrame as a CSV file for further analysis in the forthcoming activities."
   ]
  },
  {
   "cell_type": "code",
   "execution_count": 86,
   "metadata": {},
   "outputs": [
    {
     "data": {
      "text/html": [
       "<div>\n",
       "<style scoped>\n",
       "    .dataframe tbody tr th:only-of-type {\n",
       "        vertical-align: middle;\n",
       "    }\n",
       "\n",
       "    .dataframe tbody tr th {\n",
       "        vertical-align: top;\n",
       "    }\n",
       "\n",
       "    .dataframe thead th {\n",
       "        text-align: right;\n",
       "    }\n",
       "</style>\n",
       "<table border=\"1\" class=\"dataframe\">\n",
       "  <thead>\n",
       "    <tr style=\"text-align: right;\">\n",
       "      <th></th>\n",
       "      <th>date</th>\n",
       "      <th>description</th>\n",
       "      <th>language</th>\n",
       "      <th>text</th>\n",
       "      <th>title</th>\n",
       "    </tr>\n",
       "  </thead>\n",
       "  <tbody>\n",
       "    <tr>\n",
       "      <th>15</th>\n",
       "      <td>2020-11-10</td>\n",
       "      <td>Partout à travers le monde, les gouvernements ...</td>\n",
       "      <td>fr</td>\n",
       "      <td>Temps de lecture: 11 min\\r\\nDu premier confine...</td>\n",
       "      <td>Jamais l'emprise des États sur l'économie n'a ...</td>\n",
       "    </tr>\n",
       "    <tr>\n",
       "      <th>16</th>\n",
       "      <td>2020-11-04</td>\n",
       "      <td>La campagne a remis au centre des débats la pl...</td>\n",
       "      <td>fr</td>\n",
       "      <td>Lissette, d'origine cubaine, soutient Donald T...</td>\n",
       "      <td>Elections américaines : de Bernie Sanders à Do...</td>\n",
       "    </tr>\n",
       "    <tr>\n",
       "      <th>17</th>\n",
       "      <td>2020-10-23</td>\n",
       "      <td>Les premières obligations européennes -qui vie...</td>\n",
       "      <td>fr</td>\n",
       "      <td>On nous dit depuis des années que la constitut...</td>\n",
       "      <td>La dette européenne s’arrache comme des petits...</td>\n",
       "    </tr>\n",
       "    <tr>\n",
       "      <th>18</th>\n",
       "      <td>2020-10-31</td>\n",
       "      <td>Dans sa chronique au « Monde », l’économiste J...</td>\n",
       "      <td>fr</td>\n",
       "      <td>Chronique. Annonces et bruits de fusions banca...</td>\n",
       "      <td>« Des banques trop grosses pour réussir »</td>\n",
       "    </tr>\n",
       "    <tr>\n",
       "      <th>19</th>\n",
       "      <td>2020-11-12</td>\n",
       "      <td>Nissan annonce ce jeudi la perspective d’une p...</td>\n",
       "      <td>fr</td>\n",
       "      <td>Nissan veut persuader les analystes qu’il va u...</td>\n",
       "      <td>Nissan, l'allié malade de Renault, perd beauco...</td>\n",
       "    </tr>\n",
       "  </tbody>\n",
       "</table>\n",
       "</div>"
      ],
      "text/plain": [
       "          date                                        description language  \\\n",
       "15  2020-11-10  Partout à travers le monde, les gouvernements ...       fr   \n",
       "16  2020-11-04  La campagne a remis au centre des débats la pl...       fr   \n",
       "17  2020-10-23  Les premières obligations européennes -qui vie...       fr   \n",
       "18  2020-10-31  Dans sa chronique au « Monde », l’économiste J...       fr   \n",
       "19  2020-11-12  Nissan annonce ce jeudi la perspective d’une p...       fr   \n",
       "\n",
       "                                                 text  \\\n",
       "15  Temps de lecture: 11 min\\r\\nDu premier confine...   \n",
       "16  Lissette, d'origine cubaine, soutient Donald T...   \n",
       "17  On nous dit depuis des années que la constitut...   \n",
       "18  Chronique. Annonces et bruits de fusions banca...   \n",
       "19  Nissan veut persuader les analystes qu’il va u...   \n",
       "\n",
       "                                                title  \n",
       "15  Jamais l'emprise des États sur l'économie n'a ...  \n",
       "16  Elections américaines : de Bernie Sanders à Do...  \n",
       "17  La dette européenne s’arrache comme des petits...  \n",
       "18          « Des banques trop grosses pour réussir »  \n",
       "19  Nissan, l'allié malade de Renault, perd beauco...  "
      ]
     },
     "execution_count": 86,
     "metadata": {},
     "output_type": "execute_result"
    }
   ],
   "source": [
    "crisis_df.tail()\n"
   ]
  },
  {
   "cell_type": "code",
   "execution_count": 88,
   "metadata": {},
   "outputs": [],
   "source": [
    "crisis_df.to_csv('crisis_2008.csv')"
   ]
  },
  {
   "cell_type": "code",
   "execution_count": null,
   "metadata": {},
   "outputs": [],
   "source": []
  }
 ],
 "metadata": {
  "file_extension": ".py",
  "kernelspec": {
   "display_name": "Python 3",
   "language": "python",
   "name": "python3"
  },
  "language_info": {
   "codemirror_mode": {
    "name": "ipython",
    "version": 3
   },
   "file_extension": ".py",
   "mimetype": "text/x-python",
   "name": "python",
   "nbconvert_exporter": "python",
   "pygments_lexer": "ipython3",
   "version": "3.7.7"
  },
  "mimetype": "text/x-python",
  "name": "python",
  "npconvert_exporter": "python",
  "pygments_lexer": "ipython3",
  "version": 3
 },
 "nbformat": 4,
 "nbformat_minor": 4
}

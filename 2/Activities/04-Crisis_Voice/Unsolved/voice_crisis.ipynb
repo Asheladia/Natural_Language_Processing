{
 "cells": [
  {
   "cell_type": "markdown",
   "metadata": {},
   "source": [
    "# The Voice of the Crisis\n",
    "\n",
    "Despite it happening over a decade ago, the financial crisis of 2008 is still on the news due to its effects in global economy. On this activity you will retrieve news articles about this historical economic fact in English and French to capture the voice of the crisis in two different languages."
   ]
  },
  {
   "cell_type": "code",
   "execution_count": 70,
   "metadata": {},
   "outputs": [
    {
     "data": {
      "text/plain": [
       "True"
      ]
     },
     "execution_count": 70,
     "metadata": {},
     "output_type": "execute_result"
    }
   ],
   "source": [
    "# Initial imports\n",
    "import os\n",
    "import pandas as pd\n",
    "from pathlib import Path\n",
    "from newsapi import NewsApiClient\n",
    "from dotenv import load_dotenv\n",
    "load_dotenv()\n"
   ]
  },
  {
   "cell_type": "code",
   "execution_count": 71,
   "metadata": {},
   "outputs": [],
   "source": [
    "# Retrieve the News API key\n",
    "api_key = os.getenv(\"news_api\")\n",
    "\n"
   ]
  },
  {
   "cell_type": "code",
   "execution_count": 72,
   "metadata": {},
   "outputs": [
    {
     "data": {
      "text/plain": [
       "<newsapi.newsapi_client.NewsApiClient at 0x1a35c60f508>"
      ]
     },
     "execution_count": 72,
     "metadata": {},
     "output_type": "execute_result"
    }
   ],
   "source": [
    "# Create the newsapi client\n",
    "newsapi = NewsApiClient(api_key = '22b1baf9e3d84f549a60cd9ca7881995')\n",
    "\n",
    "newsapi"
   ]
  },
  {
   "cell_type": "markdown",
   "metadata": {},
   "source": [
    "## Getting News Articles in English\n",
    "\n",
    "In this section you have to fetch all the news articles using the News API with the keywords `financial`, `crisis`, and `2008` in English.\n",
    "\n"
   ]
  },
  {
   "cell_type": "code",
   "execution_count": null,
   "metadata": {},
   "outputs": [],
   "source": [
    "financial_crisis = newsapi.get_everything(q ='crisis AND financial AND 2008', language='en')\n",
    "financial_crisis"
   ]
  },
  {
   "cell_type": "code",
   "execution_count": 89,
   "metadata": {},
   "outputs": [
    {
     "data": {
      "text/plain": [
       "2448"
      ]
     },
     "execution_count": 89,
     "metadata": {},
     "output_type": "execute_result"
    }
   ],
   "source": [
    "# Fetch news about the financial crisis on 2008 in English\n",
    "#[the `everything` endpoint documentation](https://newsapi.org/docs/endpoints/everything)\n",
    "financial_crisis = newsapi.get_everything(q ='crisis AND financial AND 2008', language='en')\n",
    "financial_crisis\n",
    "# Show the total number of news\n",
    "financial_crisis[\"totalResults\"]\n",
    "\n",
    "\n",
    "\n"
   ]
  },
  {
   "cell_type": "markdown",
   "metadata": {},
   "source": [
    "## Getting News Articles in French\n",
    "\n",
    "Fetching news on French will require keywords on this language, so retrieve all the news articles using the News API using the keywords `crise`, `financière`, and `2008`."
   ]
  },
  {
   "cell_type": "code",
   "execution_count": 75,
   "metadata": {},
   "outputs": [
    {
     "data": {
      "text/plain": [
       "132"
      ]
     },
     "execution_count": 75,
     "metadata": {},
     "output_type": "execute_result"
    }
   ],
   "source": [
    "# Fetch news about the financial crisis on 2008 in French\n",
    "crisis_news_fr = newsapi.get_everything(q = 'crise AND financière AND 2008', language='fr')\n",
    "\n",
    "# Show the total number of news\n",
    "crisis_news_fr[\"totalResults\"]\n"
   ]
  },
  {
   "cell_type": "markdown",
   "metadata": {},
   "source": [
    "## Create a DataFrame with All the Results\n",
    "\n",
    "The first task on this section is to create a function called `create_df(news, language)` that will transform the `articles` list in a DataFrame. This function will receive two parameters: `news` is the articles list and `language` is a string to specify the language of the news articles.\n",
    "\n",
    "The resulting DataFrame should have the following columns:\n",
    "\n",
    "* Title: The article's title\n",
    "* Description: The article's description\n",
    "* Text: The article's content\n",
    "* Date: The date when the article was published on the format `YYY-MM-DD` (eg. 2019-07-11)\n",
    "* Language: A string specifying the news language (`en` for English, `fr` for French)"
   ]
  },
  {
   "cell_type": "code",
   "execution_count": 82,
   "metadata": {},
   "outputs": [],
   "source": [
    "def create_df(news, language):\n",
    "    articles =[]\n",
    "    for article in news:\n",
    "        try:\n",
    "            title = article[\"title\"]\n",
    "            description = article[\"description\"]\n",
    "            text = article[\"content\"]\n",
    "            date = article[\"publishedAt\"][:10]\n",
    "            \n",
    "            articles.append({\"title\": title, \"description\": description, \"text\": text, \"date\": date, \"language\": language})\n",
    "        except AttributeError:\n",
    "            Print(\"oops!\")\n",
    "            \n",
    "    return pd.DataFrame(articles)\n",
    "\n"
   ]
  },
  {
   "cell_type": "markdown",
   "metadata": {},
   "source": [
    "Use the create_df() function to create a DataFrame for the English news and another for the French news."
   ]
  },
  {
   "cell_type": "code",
   "execution_count": 83,
   "metadata": {},
   "outputs": [],
   "source": [
    "# Create a DataFrame with the news in English\n",
    "crisis_en_df = create_df (financial_crisis[\"articles\"], \"en\")\n",
    "\n",
    "# Create a DataFrame with the news in French\n",
    "\n",
    "crisis_fr_df = create_df (crisis_news_fr['articles'], \"fr\")"
   ]
  },
  {
   "cell_type": "markdown",
   "metadata": {},
   "source": [
    "Concatenate both DataFrames having the English news at the top and the French news at the bottom."
   ]
  },
  {
   "cell_type": "code",
   "execution_count": null,
   "metadata": {},
   "outputs": [],
   "source": [
    "\n"
   ]
  },
  {
   "cell_type": "code",
   "execution_count": 84,
   "metadata": {},
   "outputs": [],
   "source": [
    "# Show the head articles (they are in English)\n",
    "\n",
    "crisis_df = pd.concat([crisis_en_df, crisis_fr_df])"
   ]
  },
  {
   "cell_type": "code",
   "execution_count": 85,
   "metadata": {},
   "outputs": [
    {
     "data": {
      "text/html": [
       "<div>\n",
       "<style scoped>\n",
       "    .dataframe tbody tr th:only-of-type {\n",
       "        vertical-align: middle;\n",
       "    }\n",
       "\n",
       "    .dataframe tbody tr th {\n",
       "        vertical-align: top;\n",
       "    }\n",
       "\n",
       "    .dataframe thead th {\n",
       "        text-align: right;\n",
       "    }\n",
       "</style>\n",
       "<table border=\"1\" class=\"dataframe\">\n",
       "  <thead>\n",
       "    <tr style=\"text-align: right;\">\n",
       "      <th></th>\n",
       "      <th>date</th>\n",
       "      <th>description</th>\n",
       "      <th>language</th>\n",
       "      <th>text</th>\n",
       "      <th>title</th>\n",
       "    </tr>\n",
       "  </thead>\n",
       "  <tbody>\n",
       "    <tr>\n",
       "      <th>0</th>\n",
       "      <td>2020-11-10</td>\n",
       "      <td>European bank stocks had their strongest two d...</td>\n",
       "      <td>en</td>\n",
       "      <td>LONDON/MILAN (Reuters) - European bank stocks ...</td>\n",
       "      <td>Strongest rally since 2008 fuels hopes of Euro...</td>\n",
       "    </tr>\n",
       "    <tr>\n",
       "      <th>1</th>\n",
       "      <td>2020-11-03</td>\n",
       "      <td>Central bank interest rate cuts across emergin...</td>\n",
       "      <td>en</td>\n",
       "      <td>LONDON (Reuters) - Central bank interest rate ...</td>\n",
       "      <td>Over and out: EM central bank 20-month easing ...</td>\n",
       "    </tr>\n",
       "    <tr>\n",
       "      <th>2</th>\n",
       "      <td>2020-11-03</td>\n",
       "      <td>Central bank interest rate cuts across emergin...</td>\n",
       "      <td>en</td>\n",
       "      <td>LONDON (Reuters) - Central bank interest rate ...</td>\n",
       "      <td>Over and out: EM central bank 20-month easing ...</td>\n",
       "    </tr>\n",
       "    <tr>\n",
       "      <th>3</th>\n",
       "      <td>2020-11-03</td>\n",
       "      <td>Central bank interest rate cuts across emergin...</td>\n",
       "      <td>en</td>\n",
       "      <td>A security guard's reflection is seen next to ...</td>\n",
       "      <td>GRAPHIC-Over and out: EM central bank 20-month...</td>\n",
       "    </tr>\n",
       "    <tr>\n",
       "      <th>4</th>\n",
       "      <td>2020-11-23</td>\n",
       "      <td>After the panic comes the bailout. And after t...</td>\n",
       "      <td>en</td>\n",
       "      <td>LONDON (Reuters Breakingviews) - After the pan...</td>\n",
       "      <td>Breakingviews - March’s market bailout demands...</td>\n",
       "    </tr>\n",
       "  </tbody>\n",
       "</table>\n",
       "</div>"
      ],
      "text/plain": [
       "         date                                        description language  \\\n",
       "0  2020-11-10  European bank stocks had their strongest two d...       en   \n",
       "1  2020-11-03  Central bank interest rate cuts across emergin...       en   \n",
       "2  2020-11-03  Central bank interest rate cuts across emergin...       en   \n",
       "3  2020-11-03  Central bank interest rate cuts across emergin...       en   \n",
       "4  2020-11-23  After the panic comes the bailout. And after t...       en   \n",
       "\n",
       "                                                text  \\\n",
       "0  LONDON/MILAN (Reuters) - European bank stocks ...   \n",
       "1  LONDON (Reuters) - Central bank interest rate ...   \n",
       "2  LONDON (Reuters) - Central bank interest rate ...   \n",
       "3  A security guard's reflection is seen next to ...   \n",
       "4  LONDON (Reuters Breakingviews) - After the pan...   \n",
       "\n",
       "                                               title  \n",
       "0  Strongest rally since 2008 fuels hopes of Euro...  \n",
       "1  Over and out: EM central bank 20-month easing ...  \n",
       "2  Over and out: EM central bank 20-month easing ...  \n",
       "3  GRAPHIC-Over and out: EM central bank 20-month...  \n",
       "4  Breakingviews - March’s market bailout demands...  "
      ]
     },
     "execution_count": 85,
     "metadata": {},
     "output_type": "execute_result"
    }
   ],
   "source": [
    "# Show the tail articles (they are in French)\n",
    "\n",
    "crisis_df.head()"
   ]
  },
  {
   "cell_type": "markdown",
   "metadata": {},
   "source": [
    "Save tha final DataFrame as a CSV file for further analysis in the forthcoming activities."
   ]
  },
  {
   "cell_type": "code",
   "execution_count": 86,
   "metadata": {},
   "outputs": [
    {
     "data": {
      "text/html": [
       "<div>\n",
       "<style scoped>\n",
       "    .dataframe tbody tr th:only-of-type {\n",
       "        vertical-align: middle;\n",
       "    }\n",
       "\n",
       "    .dataframe tbody tr th {\n",
       "        vertical-align: top;\n",
       "    }\n",
       "\n",
       "    .dataframe thead th {\n",
       "        text-align: right;\n",
       "    }\n",
       "</style>\n",
       "<table border=\"1\" class=\"dataframe\">\n",
       "  <thead>\n",
       "    <tr style=\"text-align: right;\">\n",
       "      <th></th>\n",
       "      <th>date</th>\n",
       "      <th>description</th>\n",
       "      <th>language</th>\n",
       "      <th>text</th>\n",
       "      <th>title</th>\n",
       "    </tr>\n",
       "  </thead>\n",
       "  <tbody>\n",
       "    <tr>\n",
       "      <th>15</th>\n",
       "      <td>2020-11-10</td>\n",
       "      <td>Partout à travers le monde, les gouvernements ...</td>\n",
       "      <td>fr</td>\n",
       "      <td>Temps de lecture: 11 min\\r\\nDu premier confine...</td>\n",
       "      <td>Jamais l'emprise des États sur l'économie n'a ...</td>\n",
       "    </tr>\n",
       "    <tr>\n",
       "      <th>16</th>\n",
       "      <td>2020-11-04</td>\n",
       "      <td>La campagne a remis au centre des débats la pl...</td>\n",
       "      <td>fr</td>\n",
       "      <td>Lissette, d'origine cubaine, soutient Donald T...</td>\n",
       "      <td>Elections américaines : de Bernie Sanders à Do...</td>\n",
       "    </tr>\n",
       "    <tr>\n",
       "      <th>17</th>\n",
       "      <td>2020-10-23</td>\n",
       "      <td>Les premières obligations européennes -qui vie...</td>\n",
       "      <td>fr</td>\n",
       "      <td>On nous dit depuis des années que la constitut...</td>\n",
       "      <td>La dette européenne s’arrache comme des petits...</td>\n",
       "    </tr>\n",
       "    <tr>\n",
       "      <th>18</th>\n",
       "      <td>2020-10-31</td>\n",
       "      <td>Dans sa chronique au « Monde », l’économiste J...</td>\n",
       "      <td>fr</td>\n",
       "      <td>Chronique. Annonces et bruits de fusions banca...</td>\n",
       "      <td>« Des banques trop grosses pour réussir »</td>\n",
       "    </tr>\n",
       "    <tr>\n",
       "      <th>19</th>\n",
       "      <td>2020-11-12</td>\n",
       "      <td>Nissan annonce ce jeudi la perspective d’une p...</td>\n",
       "      <td>fr</td>\n",
       "      <td>Nissan veut persuader les analystes qu’il va u...</td>\n",
       "      <td>Nissan, l'allié malade de Renault, perd beauco...</td>\n",
       "    </tr>\n",
       "  </tbody>\n",
       "</table>\n",
       "</div>"
      ],
      "text/plain": [
       "          date                                        description language  \\\n",
       "15  2020-11-10  Partout à travers le monde, les gouvernements ...       fr   \n",
       "16  2020-11-04  La campagne a remis au centre des débats la pl...       fr   \n",
       "17  2020-10-23  Les premières obligations européennes -qui vie...       fr   \n",
       "18  2020-10-31  Dans sa chronique au « Monde », l’économiste J...       fr   \n",
       "19  2020-11-12  Nissan annonce ce jeudi la perspective d’une p...       fr   \n",
       "\n",
       "                                                 text  \\\n",
       "15  Temps de lecture: 11 min\\r\\nDu premier confine...   \n",
       "16  Lissette, d'origine cubaine, soutient Donald T...   \n",
       "17  On nous dit depuis des années que la constitut...   \n",
       "18  Chronique. Annonces et bruits de fusions banca...   \n",
       "19  Nissan veut persuader les analystes qu’il va u...   \n",
       "\n",
       "                                                title  \n",
       "15  Jamais l'emprise des États sur l'économie n'a ...  \n",
       "16  Elections américaines : de Bernie Sanders à Do...  \n",
       "17  La dette européenne s’arrache comme des petits...  \n",
       "18          « Des banques trop grosses pour réussir »  \n",
       "19  Nissan, l'allié malade de Renault, perd beauco...  "
      ]
     },
     "execution_count": 86,
     "metadata": {},
     "output_type": "execute_result"
    }
   ],
   "source": [
    "crisis_df.tail()\n"
   ]
  },
  {
   "cell_type": "code",
   "execution_count": 88,
   "metadata": {},
   "outputs": [],
   "source": [
    "crisis_df.to_csv('crisis_2008.csv')"
   ]
  },
  {
   "cell_type": "code",
   "execution_count": null,
   "metadata": {},
   "outputs": [],
   "source": []
  }
 ],
 "metadata": {
  "file_extension": ".py",
  "kernelspec": {
   "display_name": "Python 3",
   "language": "python",
   "name": "python3"
  },
  "language_info": {
   "codemirror_mode": {
    "name": "ipython",
    "version": 3
   },
   "file_extension": ".py",
   "mimetype": "text/x-python",
   "name": "python",
   "nbconvert_exporter": "python",
   "pygments_lexer": "ipython3",
   "version": "3.7.7"
  },
  "mimetype": "text/x-python",
  "name": "python",
  "npconvert_exporter": "python",
  "pygments_lexer": "ipython3",
  "version": 3
 },
 "nbformat": 4,
 "nbformat_minor": 4
}
